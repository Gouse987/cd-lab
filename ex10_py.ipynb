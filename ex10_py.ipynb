{
  "nbformat": 4,
  "nbformat_minor": 0,
  "metadata": {
    "colab": {
      "provenance": [],
      "authorship_tag": "ABX9TyMSSyVyocfX73Lu95nFodzf",
      "include_colab_link": true
    },
    "kernelspec": {
      "name": "python3",
      "display_name": "Python 3"
    },
    "language_info": {
      "name": "python"
    }
  },
  "cells": [
    {
      "cell_type": "markdown",
      "metadata": {
        "id": "view-in-github",
        "colab_type": "text"
      },
      "source": [
        "<a href=\"https://colab.research.google.com/github/Gouse987/cd-lab/blob/main/ex10_py.ipynb\" target=\"_parent\"><img src=\"https://colab.research.google.com/assets/colab-badge.svg\" alt=\"Open In Colab\"/></a>"
      ]
    },
    {
      "cell_type": "code",
      "execution_count": 2,
      "metadata": {
        "colab": {
          "base_uri": "https://localhost:8080/",
          "height": 235
        },
        "id": "jRJ5BZc7fZ-_",
        "outputId": "f632724f-fe8a-4ac2-a1c5-fc98f6527cdc"
      },
      "outputs": [
        {
          "output_type": "error",
          "ename": "FileNotFoundError",
          "evalue": "ignored",
          "traceback": [
            "\u001b[0;31m---------------------------------------------------------------------------\u001b[0m",
            "\u001b[0;31mFileNotFoundError\u001b[0m                         Traceback (most recent call last)",
            "\u001b[0;32m<ipython-input-2-0bba9413a254>\u001b[0m in \u001b[0;36m<module>\u001b[0;34m\u001b[0m\n\u001b[1;32m     66\u001b[0m         \u001b[0;32mreturn\u001b[0m \u001b[0marr\u001b[0m\u001b[0;34m\u001b[0m\u001b[0;34m\u001b[0m\u001b[0m\n\u001b[1;32m     67\u001b[0m \u001b[0;34m\u001b[0m\u001b[0m\n\u001b[0;32m---> 68\u001b[0;31m \u001b[0;32mwith\u001b[0m \u001b[0mopen\u001b[0m\u001b[0;34m(\u001b[0m\u001b[0;34m'e1-example.txt'\u001b[0m\u001b[0;34m)\u001b[0m \u001b[0;32mas\u001b[0m \u001b[0mt\u001b[0m\u001b[0;34m:\u001b[0m\u001b[0;34m\u001b[0m\u001b[0;34m\u001b[0m\u001b[0m\n\u001b[0m\u001b[1;32m     69\u001b[0m         \u001b[0mtext\u001b[0m \u001b[0;34m=\u001b[0m \u001b[0mt\u001b[0m\u001b[0;34m.\u001b[0m\u001b[0mread\u001b[0m\u001b[0;34m(\u001b[0m\u001b[0;34m)\u001b[0m\u001b[0;34m.\u001b[0m\u001b[0msplit\u001b[0m\u001b[0;34m(\u001b[0m\u001b[0;34m)\u001b[0m\u001b[0;34m\u001b[0m\u001b[0;34m\u001b[0m\u001b[0m\n\u001b[1;32m     70\u001b[0m \u001b[0;34m\u001b[0m\u001b[0m\n",
            "\u001b[0;31mFileNotFoundError\u001b[0m: [Errno 2] No such file or directory: 'e1-example.txt'"
          ]
        }
      ],
      "source": [
        "OPERATORS = set(['+', '-', '*', '/', '(', ')'])\n",
        "PRI = {'+':1, '-':1, '*':2, '/':2}\n",
        "\n",
        "### INFIX ===> POSTFIX ###\n",
        "def infix_to_postfix(formula):\n",
        "    stack = [] # only pop when the coming op has priority \n",
        "    output = ''\n",
        "    for ch in formula:\n",
        "        if ch not in OPERATORS:\n",
        "            output += ch\n",
        "        elif ch == '(':\n",
        "            stack.append('(')\n",
        "        elif ch == ')':\n",
        "            while stack and stack[-1] != '(':\n",
        "                output += stack.pop()\n",
        "            stack.pop() # pop '('\n",
        "        else:\n",
        "            while stack and stack[-1] != '(' and PRI[ch] <= PRI[stack[-1]]:\n",
        "                output += stack.pop()\n",
        "            stack.append(ch)\n",
        "    # leftover\n",
        "    while stack: \n",
        "    \toutput += stack.pop()\n",
        "    print(f'POSTFIX: {output}')\n",
        "    return output\n",
        "\n",
        "### INFIX ===> PREFIX ###\n",
        "def infix_to_prefix(formula):\n",
        "    op_stack = []\n",
        "    exp_stack = []\n",
        "    for ch in formula:\n",
        "        if not ch in OPERATORS:\n",
        "            exp_stack.append(ch)\n",
        "        elif ch == '(':\n",
        "            op_stack.append(ch)\n",
        "        elif ch == ')':\n",
        "            while op_stack[-1] != '(':\n",
        "                op = op_stack.pop()\n",
        "                a = exp_stack.pop()\n",
        "                b = exp_stack.pop()\n",
        "                exp_stack.append( op+b+a )\n",
        "            op_stack.pop() # pop '('\n",
        "        else:\n",
        "            while op_stack and op_stack[-1] != '(' and PRI[ch] <= PRI[op_stack[-1]]:\n",
        "                op = op_stack.pop()\n",
        "                a = exp_stack.pop()\n",
        "                b = exp_stack.pop()\n",
        "                exp_stack.append( op+b+a )\n",
        "            op_stack.append(ch)\n",
        "    \n",
        "    # leftover\n",
        "    while op_stack:\n",
        "        op = op_stack.pop()\n",
        "        a = exp_stack.pop()\n",
        "        b = exp_stack.pop()\n",
        "        exp_stack.append( op+b+a )\n",
        "    print(f'PREFIX: {exp_stack[-1]}')\n",
        "    return exp_stack[-1]\n",
        "\n",
        "### THREE ADDRESS CODE GENERATION ###\n",
        "def generate3AC(pos):\n",
        "\tprint(\"### THREE ADDRESS CODE GENERATION ###\")\n",
        "\texp_stack = []\n",
        "\tt = 1\n",
        "\t\n",
        "\tfor i in pos:\n",
        "\t\tif i not in OPERATORS:\n",
        "\t\t\texp_stack.append(i)\n",
        "\t\telse:\n",
        "\t\t\tprint(f't{t} := {exp_stack[-2]} {i} {exp_stack[-1]}')\n",
        "\t\t\texp_stack=exp_stack[:-2]\n",
        "\t\t\texp_stack.append(f't{t}')\n",
        "\t\t\tt+=1\n",
        "\n",
        "expres = input(\"INPUT THE EXPRESSION: \")\n",
        "pre = infix_to_prefix(expres)\n",
        "pos = infix_to_postfix(expres)\n",
        "generate3AC(pos)"
      ]
    }
  ]
}